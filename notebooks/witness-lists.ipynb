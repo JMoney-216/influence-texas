{
 "cells": [
  {
   "cell_type": "code",
   "execution_count": 1,
   "metadata": {
    "collapsed": true
   },
   "outputs": [],
   "source": [
    "# I used wget to collect ftp.legis.state.tx.us/bills/85R/witlistbill/html/senate_bills/\n",
    "# and put them all together in a directory called '/bills/85R/witlistbill/html/senate_bills/'\n",
    "\n",
    "from bs4 import BeautifulSoup\n",
    "import re"
   ]
  },
  {
   "cell_type": "code",
   "execution_count": 2,
   "metadata": {
    "collapsed": true
   },
   "outputs": [],
   "source": [
    "endWithState = re.compile(r',?\\s?(AL|AK|AS|AZ|AR|CA|CO|CT|DE|DC|FM|FL|GA|GU|HI|ID|IL|IN|IA|KS|KY|LA|ME|MH|MD|MA|MI|MN|MS|MO|MT|NE|NV|NH|NJ|NM|NY|NC|ND|MP|OH|OK|OR|PW|PA|PR|RI|SC|SD|TN|TX|Texas|UT|VT|VI|VA|WA|WV|WI|WY)\\n?$')"
   ]
  },
  {
   "cell_type": "code",
   "execution_count": 3,
   "metadata": {},
   "outputs": [
    {
     "data": {
      "text/plain": [
       "['Castro', 'Amy   Asst. Speech Pathology']"
      ]
     },
     "execution_count": 3,
     "metadata": {},
     "output_type": "execute_result"
    }
   ],
   "source": [
    "def addName(line):\n",
    "    flags = [re.IGNORECASE, re.DOTALL]\n",
    "    regexes = [r'^((?:\\w+\\s)*\\w+),\\n((?:\\w+\\s)*\\w+)\\xa0\\xa0 ', r'^((?:\\w+\\s)*\\w+),\\n((?:\\w+\\s)*\\w+)\\s+\\(', \n",
    "              r'^((?:\\w+\\s)*\\w+),\\s+([^\\(]+) ', r'^((?:\\w+\\s)*\\w+),\\s+((?:\\w+\\s)*\\w+)  '] \n",
    "    partial = r'^(\\w+)\\s+\\n\\('  # Matches where someone put just a surname\n",
    "    for f in flags:\n",
    "        for r in regexes:\n",
    "            nameRe = re.compile(r, f)\n",
    "            match = re.search(nameRe, line[0])\n",
    "            if match:\n",
    "                extension = [match.group(1).strip(), match.group(2).strip()]\n",
    "                return extension\n",
    "    \n",
    "    # A separate case for the partial match\n",
    "    nameRe = re.compile(partial)\n",
    "    if re.search(nameRe, line[0]):\n",
    "        match = re.search(nameRe, line[0])\n",
    "        extension = [match.group(1).strip(), None]\n",
    "        return extension\n",
    "    \n",
    "    # And a third case to leave the fields blank\n",
    "    extension = [None, None]\n",
    "    return extension\n",
    "\n",
    "def addTitle(line):\n",
    "    regexes = [r',\\s(?:(?:\\w+\\s)*\\w+)\\s+(.+)\\s*\\(also providing', r',\\s(?:(?:\\w+\\s)*\\w+)\\s+(.+)\\s*\\(',\n",
    "               '^(?:(?:\\w+\\s)*\\w+),\\s+(?:(?:\\w+\\s)*\\w+)\\s\\s(.+)\\(also providing',\n",
    "               '^(?:(?:\\w+\\s)*\\w+),\\s+(?:(?:\\w+\\s)*\\w+)\\s\\s(.+)\\('\n",
    "              #  r'^.+,\\n.+\\s+(.+)\\s+\\(also providing', r'^.+,\\n.+\\s+(.+)\\s+\\(',\n",
    "              # ',\\n?.+\\xa0\\xa0 ((?:\\w+\\s)*\\w+)\\s+(\\(also providing written testimony\\))?\\s+\\('\n",
    "              ]\n",
    "    for r in regexes:\n",
    "        titleRe = re.compile(r)\n",
    "        match = re.search(titleRe, line[0])\n",
    "        if match:\n",
    "            extension = [match.group(1).strip()]\n",
    "            return extension\n",
    "    extension = [None]\n",
    "    return extension\n",
    "\n",
    "def addOrg(line):\n",
    "    extension = [None]\n",
    "    orgRe = re.compile(r'written testimony\\)\\s+\\((.*\\n?.*)\\)(,|$)')\n",
    "    match = re.search(orgRe, line[0])\n",
    "    if match:\n",
    "        extension = [match.group(1).strip()]\n",
    "    else: \n",
    "        altOrgRe = re.compile(r'\\((.*\\n?.*)\\)(\\s?,\\s.*,\\s.*)?$')\n",
    "        match = re.search(altOrgRe, line[0])\n",
    "        if match:\n",
    "            extension = [match.group(1).strip()]\n",
    "    return extension\n",
    "\n",
    "def addCity(line):\n",
    "    extension = [None, None]\n",
    "    cityRe = re.compile(r'\\)\\s?,\\s(.*),\\s(.*)$')\n",
    "    match = re.search(cityRe, line[0])\n",
    "    if match:\n",
    "        extension = [match.group(1).strip(), match.group(2).strip()]\n",
    "    return extension\n",
    "\n",
    "addName([\"Castro,\\nAmy   Asst. Speech Pathology  (also providing written testimony), (Child's Play\",\"HB 2\",\"For\"])"
   ]
  },
  {
   "cell_type": "code",
   "execution_count": 4,
   "metadata": {},
   "outputs": [
    {
     "name": "stdout",
     "output_type": "stream",
     "text": [
      "[['\\xa0\\xa0\\xa0\\xa0\\xa0\\xa0\\xa0\\xa0\\xa0\\xa0\\xa0\\xa0\\xa0\\xa0\\xa0\\xa0\\xa0\\xa0\\xa0\\xa0\\xa0\\xa0\\xa0\\xa0\\xa0\\xa0\\xa0\\xa0\\xa0\\xa0\\xa0\\xa0\\xa0\\xa0\\xa0\\xa0\\xa0\\xa0\\xa0\\xa0\\xa0 Carter,\\nBobbie\\xa0\\xa0 Physical Therapist\\xa0 (Countryside Therapy Group, Inc.), Rising Star, TX', 'For', 'HB 2'], [\"\\xa0\\xa0\\xa0\\xa0\\xa0\\xa0\\xa0\\xa0\\xa0\\xa0\\xa0\\xa0\\xa0\\xa0\\xa0\\xa0\\xa0\\xa0\\xa0\\xa0\\xa0\\xa0\\xa0\\xa0\\xa0\\xa0\\xa0\\xa0\\xa0\\xa0\\xa0\\xa0\\xa0\\xa0\\xa0\\xa0\\xa0\\xa0\\xa0\\xa0\\xa0 Castro,\\nAmy\\xa0\\xa0 Asst. Speech Pathology\\xa0 (also providing written testimony)\\xa0 (Child's Play\\n\", 'For', 'HB 2'], ['\\xa0\\xa0\\xa0\\xa0\\xa0\\xa0\\xa0\\xa0\\xa0\\xa0\\xa0\\xa0\\xa0\\xa0\\xa0\\xa0\\xa0\\xa0\\xa0\\xa0\\xa0\\xa0\\xa0\\xa0\\xa0\\xa0\\xa0\\xa0\\xa0\\xa0\\xa0\\xa0\\xa0\\xa0\\xa0\\xa0\\xa0\\xa0\\xa0\\xa0\\xa0 Home\\nHealth)', 'For', 'HB 2'], ['\\xa0\\xa0\\xa0\\xa0\\xa0\\xa0\\xa0\\xa0\\xa0\\xa0\\xa0\\xa0\\xa0\\xa0\\xa0\\xa0\\xa0\\xa0\\xa0\\xa0\\xa0\\xa0\\xa0\\xa0\\xa0\\xa0\\xa0\\xa0\\xa0\\xa0\\xa0\\xa0\\xa0\\xa0\\xa0\\xa0\\xa0\\xa0\\xa0\\xa0\\xa0 Hammon,\\nRachel\\xa0\\xa0 TX Association for Home Care & Hospice (TAHCH)\\xa0 (TAHCH), ', 'For', 'HB 2'], ['\\xa0\\xa0\\xa0\\xa0\\xa0\\xa0\\xa0\\xa0\\xa0\\xa0\\xa0\\xa0\\xa0\\xa0\\xa0\\xa0\\xa0\\xa0\\xa0\\xa0\\xa0\\xa0\\xa0\\xa0\\xa0\\xa0\\xa0\\xa0\\xa0\\xa0\\xa0\\xa0\\xa0\\xa0\\xa0\\xa0\\xa0\\xa0\\xa0\\xa0\\xa0 Austin', 'For', 'HB 2'], ['\\xa0\\xa0\\xa0\\xa0\\xa0\\xa0\\xa0\\xa0\\xa0\\xa0\\xa0\\xa0\\xa0\\xa0\\xa0\\xa0\\xa0\\xa0\\xa0\\xa0\\xa0\\xa0\\xa0\\xa0\\xa0\\xa0\\xa0\\xa0\\xa0\\xa0\\xa0\\xa0\\xa0\\xa0\\xa0\\xa0\\xa0\\xa0\\xa0\\xa0\\xa0 Montgomery,\\nLaura\\xa0\\xa0 Occupational Therapist\\xa0 (Countryside Therapy Group & Home ', 'For', 'HB 2'], ['\\xa0\\xa0\\xa0\\xa0\\xa0\\xa0\\xa0\\xa0\\xa0\\xa0\\xa0\\xa0\\xa0\\xa0\\xa0\\xa0\\xa0\\xa0\\xa0\\xa0\\xa0\\xa0\\xa0\\xa0\\xa0\\xa0\\xa0\\xa0\\xa0\\xa0\\xa0\\xa0\\xa0\\xa0\\xa0\\xa0\\xa0\\xa0\\xa0\\xa0\\xa0 Health),\\nStephenville', 'For', 'HB 2'], ['\\xa0\\xa0\\xa0\\xa0\\xa0\\xa0\\xa0\\xa0\\xa0\\xa0\\xa0\\xa0\\xa0\\xa0\\xa0\\xa0\\xa0\\xa0\\xa0\\xa0\\xa0\\xa0\\xa0\\xa0\\xa0\\xa0\\xa0\\xa0\\xa0\\xa0\\xa0\\xa0\\xa0\\xa0\\xa0\\xa0\\xa0\\xa0\\xa0\\xa0\\xa0 West,\\nBarbara\\xa0\\xa0 Director of Marketing -\\xa0 (also providing written testimony)\\xa0 (Circle\\nof Care ', 'For', 'HB 2'], ['\\xa0\\xa0\\xa0\\xa0\\xa0\\xa0\\xa0\\xa0\\xa0\\xa0\\xa0\\xa0\\xa0\\xa0\\xa0\\xa0\\xa0\\xa0\\xa0\\xa0\\xa0\\xa0\\xa0\\xa0\\xa0\\xa0\\xa0\\xa0\\xa0\\xa0\\xa0\\xa0\\xa0\\xa0\\xa0\\xa0\\xa0\\xa0\\xa0\\xa0\\xa0 -\\nPediatric Therapy), Bulverde, TX', 'For', 'HB 2'], ['\\xa0\\xa0\\xa0\\xa0\\xa0\\xa0\\xa0\\xa0\\xa0\\xa0\\xa0\\xa0\\xa0\\xa0\\xa0\\xa0\\xa0\\xa0\\xa0\\xa0\\xa0\\xa0\\xa0\\xa0\\xa0\\xa0\\xa0\\xa0\\xa0\\xa0\\xa0\\xa0\\xa0\\xa0\\xa0\\xa0\\xa0\\xa0\\xa0\\xa0\\xa0 Adams,\\nJosh\\xa0\\xa0 Atlas Pediatric Therapy, Small Business Owner Home Health Agency\\xa0 ', 'On', 'HB 2'], ['\\xa0\\xa0\\xa0\\xa0\\xa0\\xa0\\xa0\\xa0\\xa0\\xa0\\xa0\\xa0\\xa0\\xa0\\xa0\\xa0\\xa0\\xa0\\xa0\\xa0\\xa0\\xa0\\xa0\\xa0\\xa0\\xa0\\xa0\\xa0\\xa0\\xa0\\xa0\\xa0\\xa0\\xa0\\xa0\\xa0\\xa0\\xa0\\xa0\\xa0\\xa0 (Speech,\\nPhysical, Occupational Therapy Industry & Families), Arlington, TX', 'On', 'HB 2'], ['\\xa0\\xa0\\xa0\\xa0\\xa0\\xa0\\xa0\\xa0\\xa0\\xa0\\xa0\\xa0\\xa0\\xa0\\xa0\\xa0\\xa0\\xa0\\xa0\\xa0\\xa0\\xa0\\xa0\\xa0\\xa0\\xa0\\xa0\\xa0\\xa0\\xa0\\xa0\\xa0\\xa0\\xa0\\xa0\\xa0\\xa0\\xa0\\xa0\\xa0\\xa0 Colbert,\\nPaul\\xa0\\xa0 consultant\\xa0 (also providing written testimony)\\xa0 (Lee College), Houston,\\nTX', 'On', 'HB 2'], ['\\xa0\\xa0\\xa0\\xa0\\xa0\\xa0\\xa0\\xa0\\xa0\\xa0\\xa0\\xa0\\xa0\\xa0\\xa0\\xa0\\xa0\\xa0\\xa0\\xa0\\xa0\\xa0\\xa0\\xa0\\xa0\\xa0\\xa0\\xa0\\xa0\\xa0\\xa0\\xa0\\xa0\\xa0\\xa0\\xa0\\xa0\\xa0\\xa0\\xa0\\xa0 Mehta,\\nHannah\\xa0\\xa0 parent & exec director\\xa0 (Protect TX Fragile Kids - 1700 families\\nof ', 'On', 'HB 2'], ['\\xa0\\xa0\\xa0\\xa0\\xa0\\xa0\\xa0\\xa0\\xa0\\xa0\\xa0\\xa0\\xa0\\xa0\\xa0\\xa0\\xa0\\xa0\\xa0\\xa0\\xa0\\xa0\\xa0\\xa0\\xa0\\xa0\\xa0\\xa0\\xa0\\xa0\\xa0\\xa0\\xa0\\xa0\\xa0\\xa0\\xa0\\xa0\\xa0\\xa0\\xa0 medically\\nfragile children), Flower Mound, TX', 'On', 'HB 2'], ['\\xa0\\xa0\\xa0\\xa0\\xa0\\xa0\\xa0\\xa0\\xa0\\xa0\\xa0\\xa0\\xa0\\xa0\\xa0\\xa0\\xa0\\xa0\\xa0\\xa0\\xa0\\xa0\\xa0\\xa0\\xa0\\xa0\\xa0\\xa0\\xa0\\xa0\\xa0\\xa0\\xa0\\xa0\\xa0\\xa0\\xa0\\xa0\\xa0\\xa0\\xa0 Parks,\\nUrsula\\xa0\\xa0\\xa0 (LBB)', 'On', 'HB 2'], ['\\xa0\\xa0\\xa0\\xa0\\xa0\\xa0\\xa0\\xa0\\xa0\\xa0\\xa0\\xa0\\xa0\\xa0\\xa0\\xa0\\xa0\\xa0\\xa0\\xa0\\xa0\\xa0\\xa0\\xa0\\xa0\\xa0\\xa0\\xa0\\xa0\\xa0\\xa0\\xa0\\xa0\\xa0\\xa0\\xa0\\xa0\\xa0\\xa0\\xa0\\xa0 Riley,\\nJennifer\\xa0\\xa0 Therapy\\xa0 (Sage Care Therapy), Dallas', 'On', 'HB 2'], ['\\xa0\\xa0\\xa0\\xa0\\xa0\\xa0\\xa0\\xa0\\xa0\\xa0\\xa0\\xa0\\xa0\\xa0\\xa0\\xa0\\xa0\\xa0\\xa0\\xa0\\xa0\\xa0\\xa0\\xa0\\xa0\\xa0\\xa0\\xa0\\xa0\\xa0\\xa0\\xa0\\xa0\\xa0\\xa0\\xa0\\xa0\\xa0\\xa0\\xa0\\xa0 Rodell,\\nLeora\\xa0\\xa0\\xa0 (LBB)', 'On', 'HB 2'], ['\\xa0\\xa0\\xa0\\xa0\\xa0\\xa0\\xa0\\xa0\\xa0\\xa0\\xa0\\xa0\\xa0\\xa0\\xa0\\xa0\\xa0\\xa0\\xa0\\xa0\\xa0\\xa0\\xa0\\xa0\\xa0\\xa0\\xa0\\xa0\\xa0\\xa0\\xa0\\xa0\\xa0\\xa0\\xa0\\xa0\\xa0\\xa0\\xa0\\xa0\\xa0 Smith,\\nCharles\\xa0\\xa0 Executive Commissioner\\xa0 (Health and Human Services Commission), ', 'On', 'HB 2'], ['\\xa0\\xa0\\xa0\\xa0\\xa0\\xa0\\xa0\\xa0\\xa0\\xa0\\xa0\\xa0\\xa0\\xa0\\xa0\\xa0\\xa0\\xa0\\xa0\\xa0\\xa0\\xa0\\xa0\\xa0\\xa0\\xa0\\xa0\\xa0\\xa0\\xa0\\xa0\\xa0\\xa0\\xa0\\xa0\\xa0\\xa0\\xa0\\xa0\\xa0\\xa0 Austin,\\nTX', 'On', 'HB 2'], ['\\xa0\\xa0\\xa0\\xa0\\xa0\\xa0\\xa0\\xa0\\xa0\\xa0\\xa0\\xa0\\xa0\\xa0\\xa0\\xa0\\xa0\\xa0\\xa0\\xa0\\xa0\\xa0\\xa0\\xa0\\xa0\\xa0\\xa0\\xa0\\xa0\\xa0\\xa0\\xa0\\xa0\\xa0\\xa0\\xa0\\xa0\\xa0\\xa0\\xa0\\xa0 Thompson,\\nDustin\\xa0\\xa0 Pediatric Therapy\\xa0 (KidsCare Therapy), Addison, TX', 'On', 'HB 2'], ['\\xa0\\xa0\\xa0\\xa0\\xa0\\xa0\\xa0\\xa0\\xa0\\xa0\\xa0\\xa0\\xa0\\xa0\\xa0\\xa0\\xa0\\xa0\\xa0\\xa0\\xa0\\xa0\\xa0\\xa0\\xa0\\xa0\\xa0\\xa0\\xa0\\xa0\\xa0\\xa0\\xa0\\xa0\\xa0\\xa0\\xa0\\xa0\\xa0\\xa0\\xa0 Trigg,\\nAdrienne\\xa0\\xa0\\xa0 (Protect TX Fragile Kids), Austin, TX', 'On', 'HB 2'], ['\\xa0\\xa0\\xa0\\xa0\\xa0\\xa0\\xa0\\xa0\\xa0\\xa0\\xa0\\xa0\\xa0\\xa0\\xa0\\xa0\\xa0\\xa0\\xa0\\xa0\\xa0\\xa0\\xa0\\xa0\\xa0\\xa0\\xa0\\xa0\\xa0\\xa0\\xa0\\xa0\\xa0\\xa0\\xa0\\xa0\\xa0\\xa0\\xa0\\xa0\\xa0 Van\\nDen Bent, Jerre\\xa0\\xa0 Physical therapist\\xa0 (also providing written testimony)\\xa0\\n(Therapy ', 'On', 'HB 2'], ['\\xa0\\xa0\\xa0\\xa0\\xa0\\xa0\\xa0\\xa0\\xa0\\xa0\\xa0\\xa0\\xa0\\xa0\\xa0\\xa0\\xa0\\xa0\\xa0\\xa0\\xa0\\xa0\\xa0\\xa0\\xa0\\xa0\\xa0\\xa0\\xa0\\xa0\\xa0\\xa0\\xa0\\xa0\\xa0\\xa0\\xa0\\xa0\\xa0\\xa0\\xa0 2000),\\nDallas, TX', 'On', 'HB 2'], ['\\xa0\\xa0\\xa0\\xa0\\xa0\\xa0\\xa0\\xa0\\xa0\\xa0\\xa0\\xa0\\xa0\\xa0\\xa0\\xa0\\xa0\\xa0\\xa0\\xa0\\xa0\\xa0\\xa0\\xa0\\xa0\\xa0\\xa0\\xa0\\xa0\\xa0\\xa0\\xa0\\xa0\\xa0\\xa0\\xa0\\xa0\\xa0\\xa0\\xa0\\xa0 Wood,\\nTrey\\xa0\\xa0 Budget Director\\xa0 (Health and Human Services Commission), Austin, TX', 'On', 'HB 2'], ['\\xa0\\xa0\\xa0\\xa0\\xa0\\xa0\\xa0\\xa0\\xa0\\xa0\\xa0\\xa0\\xa0\\xa0\\xa0\\xa0\\xa0\\xa0\\xa0\\xa0\\xa0\\xa0\\xa0\\xa0\\xa0\\xa0\\xa0\\xa0\\xa0\\xa0\\xa0\\xa0\\xa0\\xa0\\xa0\\xa0\\xa0\\xa0\\xa0\\xa0\\xa0 Miller,\\nJeff\\xa0\\xa0 Policy Specialist\\xa0 (Disability Rights Texas), Austin', 'For', 'HB 2'], ['\\xa0\\xa0\\xa0\\xa0\\xa0\\xa0\\xa0\\xa0\\xa0\\xa0\\xa0\\xa0\\xa0\\xa0\\xa0\\xa0\\xa0\\xa0\\xa0\\xa0\\xa0\\xa0\\xa0\\xa0\\xa0\\xa0\\xa0\\xa0\\xa0\\xa0\\xa0\\xa0\\xa0\\xa0\\xa0\\xa0\\xa0\\xa0\\xa0\\xa0\\xa0 Tennyson,\\nTerri\\xa0\\xa0 Administrative Staff\\xa0 (Countryside Therapy Group)', 'For', 'HB 2'], ['\\xa0\\xa0\\xa0\\xa0\\xa0\\xa0\\xa0\\xa0\\xa0\\xa0\\xa0\\xa0\\xa0\\xa0\\xa0\\xa0\\xa0\\xa0\\xa0\\xa0\\xa0\\xa0\\xa0\\xa0\\xa0\\xa0\\xa0\\xa0\\xa0\\xa0\\xa0\\xa0\\xa0\\xa0\\xa0\\xa0\\xa0\\xa0\\xa0\\xa0\\xa0 Borgstedte,\\nAmy\\xa0\\xa0\\xa0 (LBB)', 'On', 'HB 2'], ['\\xa0\\xa0\\xa0\\xa0\\xa0\\xa0\\xa0\\xa0\\xa0\\xa0\\xa0\\xa0\\xa0\\xa0\\xa0\\xa0\\xa0\\xa0\\xa0\\xa0\\xa0\\xa0\\xa0\\xa0\\xa0\\xa0\\xa0\\xa0\\xa0\\xa0\\xa0\\xa0\\xa0\\xa0\\xa0\\xa0\\xa0\\xa0\\xa0\\xa0\\xa0 Pulver,\\nWayne\\xa0\\xa0\\xa0 (LBB)', 'On', 'HB 2'], ['\\xa0\\xa0\\xa0\\xa0\\xa0\\xa0\\xa0\\xa0\\xa0\\xa0\\xa0\\xa0\\xa0\\xa0\\xa0\\xa0\\xa0\\xa0\\xa0\\xa0\\xa0\\xa0\\xa0\\xa0\\xa0\\xa0\\xa0\\xa0\\xa0\\xa0\\xa0\\xa0\\xa0\\xa0\\xa0\\xa0\\xa0\\xa0\\xa0\\xa0\\xa0 Caplinger,\\nMelissa\\xa0\\xa0 SLP\\xa0 (SLP industry)', 'For', 'HB 2'], [\"\\xa0\\xa0\\xa0\\xa0\\xa0\\xa0\\xa0\\xa0\\xa0\\xa0\\xa0\\xa0\\xa0\\xa0\\xa0\\xa0\\xa0\\xa0\\xa0\\xa0\\xa0\\xa0\\xa0\\xa0\\xa0\\xa0\\xa0\\xa0\\xa0\\xa0\\xa0\\xa0\\xa0\\xa0\\xa0\\xa0\\xa0\\xa0\\xa0\\xa0\\xa0 Caplinger,\\nTJ\\xa0\\xa0 CEO\\xa0 (Pediatric Therapy - Child's Play Therapeutc Homecare)\", 'For', 'HB 2'], ['\\xa0\\xa0\\xa0\\xa0\\xa0\\xa0\\xa0\\xa0\\xa0\\xa0\\xa0\\xa0\\xa0\\xa0\\xa0\\xa0\\xa0\\xa0\\xa0\\xa0\\xa0\\xa0\\xa0\\xa0\\xa0\\xa0\\xa0\\xa0\\xa0\\xa0\\xa0\\xa0\\xa0\\xa0\\xa0\\xa0\\xa0\\xa0\\xa0\\xa0\\xa0 Jackson,\\nVictoria\\xa0\\xa0 Manager / Speech Pathologist\\xa0 (Kids Care Pediatric Home Health ', 'On', 'HB 2'], ['\\xa0\\xa0\\xa0\\xa0\\xa0\\xa0\\xa0\\xa0\\xa0\\xa0\\xa0\\xa0\\xa0\\xa0\\xa0\\xa0\\xa0\\xa0\\xa0\\xa0\\xa0\\xa0\\xa0\\xa0\\xa0\\xa0\\xa0\\xa0\\xa0\\xa0\\xa0\\xa0\\xa0\\xa0\\xa0\\xa0\\xa0\\xa0\\xa0\\xa0\\xa0 Therapy),\\nAddison, TX', 'On', 'HB 2']]\n"
     ]
    }
   ],
   "source": [
    "def HBWitness(witnessList):\n",
    "    fp = open(witnessList, encoding = 'cp1252')\n",
    "    soup = BeautifulSoup(fp.read(), \"html.parser\")\n",
    "    \n",
    "    # each printed page has a class with Wordsection plus a number\n",
    "    pages = soup.select(\"div[class^=WordSection]\") \n",
    "    \n",
    "    indent = re.compile(r\"^\\s{30}\") # whitespace should mean it's a listing, page number, or the heading \"WITNESS LIST\"\n",
    "    forStance = re.compile(r'^\\s+FOR\\s?:', re.IGNORECASE) # i flag means case-insensitive\n",
    "    againstStance = re.compile(r'^\\s+AGAINST\\s?:', re.IGNORECASE)\n",
    "    onStance = re.compile(r'^\\s+ON\\s?:', re.IGNORECASE)\n",
    "\n",
    "    wit = []\n",
    "    stance = \"For\"\n",
    "    for page in pages:\n",
    "        witpage = []\n",
    "        pp = page.select(\"p\")\n",
    "        for line in pp:\n",
    "            text = line.get_text()\n",
    "            if re.match(forStance, text):\n",
    "                stance = \"For\"\n",
    "            if re.match(againstStance, text):\n",
    "                stance = \"Against\"\n",
    "            if re.match(onStance, text):\n",
    "                stance = \"On\"\n",
    "            if re.match(indent, text):\n",
    "                witpage.append([line.get_text(), stance])\n",
    "        wit.extend(witpage[1:-1])\n",
    "\n",
    "    bill = soup.find('span', {'style':\"color:windowtext;text-decoration:none\"}) # identifies the bill\n",
    "    bill = bill.get_text()\n",
    "    for line in wit:\n",
    "        line.extend([bill.strip()])\n",
    "    \n",
    "    wit = [x for x in wit if x != None]\n",
    "    \n",
    "    return wit\n",
    "\n",
    "wit = HBWitness('bills/85R/witlistbill/html/house_bills/HB00002S.HTM')\n",
    "print(wit)"
   ]
  },
  {
   "cell_type": "code",
   "execution_count": 5,
   "metadata": {},
   "outputs": [],
   "source": [
    "\"\"\"\n",
    "wit = [[\"Castro,\\nAmy   Asst. Speech Pathology  (also providing written testimony), (Child's Play\",\"HB 2\",\"For\"],\n",
    "       [\"Home\\nHealth)\",\"HB 2\",\"For\"],\n",
    "        [\"hi\",\"HB 2\",\"For\"]]\n",
    "mergelines(wit)\n",
    "\"\"\"\n",
    "\n",
    "\n",
    "\"\"\"\n",
    "wit = [[\"\\xa0\\xa0\\xa0\\xa0\\xa0\\xa0\\xa0\\xa0\\xa0\\xa0\\xa0\\xa0\\xa0\\xa0\\xa0\\xa0\\xa0\\xa0\\xa0\\xa0\\xa0\\xa0\\xa0\\xa0\\xa0\\xa0\\xa0\\xa0\\xa0\\xa0\\xa0\\xa0\\xa0\\xa0\\xa0\\xa0\\xa0\\xa0\\xa0\\xa0\\xa0 Castro,\\nAmy\\xa0\\xa0 Asst. Speech Pathology\\xa0 (also providing written testimony)\\xa0 (Child's Play\\n\",\n",
    "        \"HB 2\",\"For\"],\n",
    "       [\"\\xa0\\xa0\\xa0\\xa0\\xa0\\xa0\\xa0\\xa0\\xa0\\xa0\\xa0\\xa0\\xa0\\xa0\\xa0\\xa0\\xa0\\xa0\\xa0\\xa0\\xa0\\xa0\\xa0\\xa0\\xa0\\xa0\\xa0\\xa0\\xa0\\xa0\\xa0\\xa0\\xa0\\xa0\\xa0\\xa0\\xa0\\xa0\\xa0\\xa0\\xa0 Castro,\\nAmy\\xa0\\xa0 Asst. Speech Pathology\\xa0 (also providing written testimony)\\xa0 (Child's Play\\n\",\n",
    "        \"HB 2\",\"For\"],\n",
    "        [\"hi\",\"HB 2\",\"For\"]]\n",
    "\"\"\"\n",
    "\n",
    "def mergelines(wit):\n",
    "    changed = 0    \n",
    "    newList = []\n",
    "    badList = []\n",
    "    tooShort = re.compile(\"^\\w+,?\\s?(AL|AK|AS|AZ|AR|CA|CO|CT|DE|DC|FM|FL|GA|GU|HI|ID|IL\\\n",
    "                        |IN|IA|KS|KY|LA|ME|MH|MD|MA|MI|MN|MS|MO|MT|NE|NV|NH|NJ|NM|NY|NC\\\n",
    "                        |ND|MP|OH|OK|OR|PW|PA|PR|RI|SC|SD|TN|TX|Texas|UT|VT|VI|VA|WA|WV|WI|WY)?\\n?$\") # line shouldn't have just one word\n",
    "    \n",
    "    for line in wit[:-1]:\n",
    "        lineIndex = wit.index(line)\n",
    "        \n",
    "        # Lines will get merged if they pass any of the three tests. Only if not will a line be accepted.\n",
    "        \n",
    "        if re.search(endWithState, wit[lineIndex + 1][0].strip()) \\\n",
    "            and not re.search(endWithState, line[0].strip())\\\n",
    "            and addName(line) != [None, None] \\\n",
    "            and addName(wit[lineIndex + 1]) == [None, None]:\n",
    "                newList.append([line[0].strip() + \" \" + wit[lineIndex + 1][0].strip(), line[1], line[2]])\n",
    "                badList.append([wit[lineIndex + 1][0].strip(), line[1], line[2]])\n",
    "                changed += 1\n",
    "        \n",
    "        elif re.search(tooShort, wit[lineIndex + 1][0].strip()):\n",
    "            newList.append([line[0].strip() + \" \" + wit[lineIndex + 1][0].strip(), line[1], line[2]])\n",
    "            badList.append([wit[lineIndex + 1][0].strip(), line[1], line[2]])\n",
    "            changed += 1\n",
    "            \n",
    "        elif line[0].count(')') != line[0].count('(') \\\n",
    "            and wit[lineIndex + 1][0].count(')') != wit[lineIndex + 1][0].count('(') \\\n",
    "            and addName(line) != [None, None] \\\n",
    "            and not re.search(endWithState, line[0].strip()):\n",
    "                newList.append([line[0].strip() + \" \" + wit[lineIndex + 1][0].strip(), line[1], line[2]])\n",
    "                badList.append([wit[lineIndex + 1][0].strip(), line[1], line[2]])\n",
    "                changed += 1\n",
    "        else:\n",
    "            newList.append([line[0].strip(), line[1], line[2]])\n",
    "    \n",
    "    newList = [x for x in newList if x not in badList]\n",
    "    \n",
    "    return newList, badList\n",
    "\n",
    "# TK: this function is working on the dummy list, but not on the real data in the dataframe below. \n",
    "# What's wrong with it?\n",
    "\n",
    "# Okay, now it's not working on the dummy data either. How can it ever spit out the same line twice?\n",
    "\n"
   ]
  },
  {
   "cell_type": "code",
   "execution_count": null,
   "metadata": {},
   "outputs": [],
   "source": [
    "addName(newList[2])"
   ]
  },
  {
   "cell_type": "code",
   "execution_count": null,
   "metadata": {},
   "outputs": [],
   "source": [
    "print(re.search(endWithState, newList[0][0].strip()))"
   ]
  },
  {
   "cell_type": "code",
   "execution_count": 6,
   "metadata": {},
   "outputs": [
    {
     "data": {
      "text/plain": [
       "[['\\xa0\\xa0\\xa0\\xa0\\xa0\\xa0\\xa0\\xa0\\xa0\\xa0\\xa0\\xa0\\xa0\\xa0\\xa0\\xa0\\xa0\\xa0\\xa0\\xa0\\xa0\\xa0\\xa0\\xa0\\xa0\\xa0\\xa0\\xa0\\xa0\\xa0\\xa0\\xa0\\xa0\\xa0\\xa0\\xa0\\xa0\\xa0\\xa0\\xa0\\xa0 Carter,\\nBobbie\\xa0\\xa0 Physical Therapist\\xa0 (Countryside Therapy Group, Inc.), Rising Star, TX',\n",
       "  'For',\n",
       "  'HB 2'],\n",
       " [\"\\xa0\\xa0\\xa0\\xa0\\xa0\\xa0\\xa0\\xa0\\xa0\\xa0\\xa0\\xa0\\xa0\\xa0\\xa0\\xa0\\xa0\\xa0\\xa0\\xa0\\xa0\\xa0\\xa0\\xa0\\xa0\\xa0\\xa0\\xa0\\xa0\\xa0\\xa0\\xa0\\xa0\\xa0\\xa0\\xa0\\xa0\\xa0\\xa0\\xa0\\xa0 Castro,\\nAmy\\xa0\\xa0 Asst. Speech Pathology\\xa0 (also providing written testimony)\\xa0 (Child's Play\\n\",\n",
       "  'For',\n",
       "  'HB 2'],\n",
       " ['\\xa0\\xa0\\xa0\\xa0\\xa0\\xa0\\xa0\\xa0\\xa0\\xa0\\xa0\\xa0\\xa0\\xa0\\xa0\\xa0\\xa0\\xa0\\xa0\\xa0\\xa0\\xa0\\xa0\\xa0\\xa0\\xa0\\xa0\\xa0\\xa0\\xa0\\xa0\\xa0\\xa0\\xa0\\xa0\\xa0\\xa0\\xa0\\xa0\\xa0\\xa0 Home\\nHealth)',\n",
       "  'For',\n",
       "  'HB 2'],\n",
       " ['\\xa0\\xa0\\xa0\\xa0\\xa0\\xa0\\xa0\\xa0\\xa0\\xa0\\xa0\\xa0\\xa0\\xa0\\xa0\\xa0\\xa0\\xa0\\xa0\\xa0\\xa0\\xa0\\xa0\\xa0\\xa0\\xa0\\xa0\\xa0\\xa0\\xa0\\xa0\\xa0\\xa0\\xa0\\xa0\\xa0\\xa0\\xa0\\xa0\\xa0\\xa0 Hammon,\\nRachel\\xa0\\xa0 TX Association for Home Care & Hospice (TAHCH)\\xa0 (TAHCH), ',\n",
       "  'For',\n",
       "  'HB 2'],\n",
       " ['\\xa0\\xa0\\xa0\\xa0\\xa0\\xa0\\xa0\\xa0\\xa0\\xa0\\xa0\\xa0\\xa0\\xa0\\xa0\\xa0\\xa0\\xa0\\xa0\\xa0\\xa0\\xa0\\xa0\\xa0\\xa0\\xa0\\xa0\\xa0\\xa0\\xa0\\xa0\\xa0\\xa0\\xa0\\xa0\\xa0\\xa0\\xa0\\xa0\\xa0\\xa0 Austin',\n",
       "  'For',\n",
       "  'HB 2'],\n",
       " ['\\xa0\\xa0\\xa0\\xa0\\xa0\\xa0\\xa0\\xa0\\xa0\\xa0\\xa0\\xa0\\xa0\\xa0\\xa0\\xa0\\xa0\\xa0\\xa0\\xa0\\xa0\\xa0\\xa0\\xa0\\xa0\\xa0\\xa0\\xa0\\xa0\\xa0\\xa0\\xa0\\xa0\\xa0\\xa0\\xa0\\xa0\\xa0\\xa0\\xa0\\xa0 Montgomery,\\nLaura\\xa0\\xa0 Occupational Therapist\\xa0 (Countryside Therapy Group & Home ',\n",
       "  'For',\n",
       "  'HB 2'],\n",
       " ['\\xa0\\xa0\\xa0\\xa0\\xa0\\xa0\\xa0\\xa0\\xa0\\xa0\\xa0\\xa0\\xa0\\xa0\\xa0\\xa0\\xa0\\xa0\\xa0\\xa0\\xa0\\xa0\\xa0\\xa0\\xa0\\xa0\\xa0\\xa0\\xa0\\xa0\\xa0\\xa0\\xa0\\xa0\\xa0\\xa0\\xa0\\xa0\\xa0\\xa0\\xa0 Health),\\nStephenville',\n",
       "  'For',\n",
       "  'HB 2'],\n",
       " ['\\xa0\\xa0\\xa0\\xa0\\xa0\\xa0\\xa0\\xa0\\xa0\\xa0\\xa0\\xa0\\xa0\\xa0\\xa0\\xa0\\xa0\\xa0\\xa0\\xa0\\xa0\\xa0\\xa0\\xa0\\xa0\\xa0\\xa0\\xa0\\xa0\\xa0\\xa0\\xa0\\xa0\\xa0\\xa0\\xa0\\xa0\\xa0\\xa0\\xa0\\xa0 West,\\nBarbara\\xa0\\xa0 Director of Marketing -\\xa0 (also providing written testimony)\\xa0 (Circle\\nof Care ',\n",
       "  'For',\n",
       "  'HB 2'],\n",
       " ['\\xa0\\xa0\\xa0\\xa0\\xa0\\xa0\\xa0\\xa0\\xa0\\xa0\\xa0\\xa0\\xa0\\xa0\\xa0\\xa0\\xa0\\xa0\\xa0\\xa0\\xa0\\xa0\\xa0\\xa0\\xa0\\xa0\\xa0\\xa0\\xa0\\xa0\\xa0\\xa0\\xa0\\xa0\\xa0\\xa0\\xa0\\xa0\\xa0\\xa0\\xa0 -\\nPediatric Therapy), Bulverde, TX',\n",
       "  'For',\n",
       "  'HB 2'],\n",
       " ['\\xa0\\xa0\\xa0\\xa0\\xa0\\xa0\\xa0\\xa0\\xa0\\xa0\\xa0\\xa0\\xa0\\xa0\\xa0\\xa0\\xa0\\xa0\\xa0\\xa0\\xa0\\xa0\\xa0\\xa0\\xa0\\xa0\\xa0\\xa0\\xa0\\xa0\\xa0\\xa0\\xa0\\xa0\\xa0\\xa0\\xa0\\xa0\\xa0\\xa0\\xa0 Adams,\\nJosh\\xa0\\xa0 Atlas Pediatric Therapy, Small Business Owner Home Health Agency\\xa0 ',\n",
       "  'On',\n",
       "  'HB 2'],\n",
       " ['\\xa0\\xa0\\xa0\\xa0\\xa0\\xa0\\xa0\\xa0\\xa0\\xa0\\xa0\\xa0\\xa0\\xa0\\xa0\\xa0\\xa0\\xa0\\xa0\\xa0\\xa0\\xa0\\xa0\\xa0\\xa0\\xa0\\xa0\\xa0\\xa0\\xa0\\xa0\\xa0\\xa0\\xa0\\xa0\\xa0\\xa0\\xa0\\xa0\\xa0\\xa0 (Speech,\\nPhysical, Occupational Therapy Industry & Families), Arlington, TX',\n",
       "  'On',\n",
       "  'HB 2'],\n",
       " ['\\xa0\\xa0\\xa0\\xa0\\xa0\\xa0\\xa0\\xa0\\xa0\\xa0\\xa0\\xa0\\xa0\\xa0\\xa0\\xa0\\xa0\\xa0\\xa0\\xa0\\xa0\\xa0\\xa0\\xa0\\xa0\\xa0\\xa0\\xa0\\xa0\\xa0\\xa0\\xa0\\xa0\\xa0\\xa0\\xa0\\xa0\\xa0\\xa0\\xa0\\xa0 Colbert,\\nPaul\\xa0\\xa0 consultant\\xa0 (also providing written testimony)\\xa0 (Lee College), Houston,\\nTX',\n",
       "  'On',\n",
       "  'HB 2'],\n",
       " ['\\xa0\\xa0\\xa0\\xa0\\xa0\\xa0\\xa0\\xa0\\xa0\\xa0\\xa0\\xa0\\xa0\\xa0\\xa0\\xa0\\xa0\\xa0\\xa0\\xa0\\xa0\\xa0\\xa0\\xa0\\xa0\\xa0\\xa0\\xa0\\xa0\\xa0\\xa0\\xa0\\xa0\\xa0\\xa0\\xa0\\xa0\\xa0\\xa0\\xa0\\xa0 Mehta,\\nHannah\\xa0\\xa0 parent & exec director\\xa0 (Protect TX Fragile Kids - 1700 families\\nof ',\n",
       "  'On',\n",
       "  'HB 2'],\n",
       " ['\\xa0\\xa0\\xa0\\xa0\\xa0\\xa0\\xa0\\xa0\\xa0\\xa0\\xa0\\xa0\\xa0\\xa0\\xa0\\xa0\\xa0\\xa0\\xa0\\xa0\\xa0\\xa0\\xa0\\xa0\\xa0\\xa0\\xa0\\xa0\\xa0\\xa0\\xa0\\xa0\\xa0\\xa0\\xa0\\xa0\\xa0\\xa0\\xa0\\xa0\\xa0 medically\\nfragile children), Flower Mound, TX',\n",
       "  'On',\n",
       "  'HB 2'],\n",
       " ['\\xa0\\xa0\\xa0\\xa0\\xa0\\xa0\\xa0\\xa0\\xa0\\xa0\\xa0\\xa0\\xa0\\xa0\\xa0\\xa0\\xa0\\xa0\\xa0\\xa0\\xa0\\xa0\\xa0\\xa0\\xa0\\xa0\\xa0\\xa0\\xa0\\xa0\\xa0\\xa0\\xa0\\xa0\\xa0\\xa0\\xa0\\xa0\\xa0\\xa0\\xa0 Parks,\\nUrsula\\xa0\\xa0\\xa0 (LBB)',\n",
       "  'On',\n",
       "  'HB 2'],\n",
       " ['\\xa0\\xa0\\xa0\\xa0\\xa0\\xa0\\xa0\\xa0\\xa0\\xa0\\xa0\\xa0\\xa0\\xa0\\xa0\\xa0\\xa0\\xa0\\xa0\\xa0\\xa0\\xa0\\xa0\\xa0\\xa0\\xa0\\xa0\\xa0\\xa0\\xa0\\xa0\\xa0\\xa0\\xa0\\xa0\\xa0\\xa0\\xa0\\xa0\\xa0\\xa0 Riley,\\nJennifer\\xa0\\xa0 Therapy\\xa0 (Sage Care Therapy), Dallas',\n",
       "  'On',\n",
       "  'HB 2'],\n",
       " ['\\xa0\\xa0\\xa0\\xa0\\xa0\\xa0\\xa0\\xa0\\xa0\\xa0\\xa0\\xa0\\xa0\\xa0\\xa0\\xa0\\xa0\\xa0\\xa0\\xa0\\xa0\\xa0\\xa0\\xa0\\xa0\\xa0\\xa0\\xa0\\xa0\\xa0\\xa0\\xa0\\xa0\\xa0\\xa0\\xa0\\xa0\\xa0\\xa0\\xa0\\xa0 Rodell,\\nLeora\\xa0\\xa0\\xa0 (LBB)',\n",
       "  'On',\n",
       "  'HB 2'],\n",
       " ['\\xa0\\xa0\\xa0\\xa0\\xa0\\xa0\\xa0\\xa0\\xa0\\xa0\\xa0\\xa0\\xa0\\xa0\\xa0\\xa0\\xa0\\xa0\\xa0\\xa0\\xa0\\xa0\\xa0\\xa0\\xa0\\xa0\\xa0\\xa0\\xa0\\xa0\\xa0\\xa0\\xa0\\xa0\\xa0\\xa0\\xa0\\xa0\\xa0\\xa0\\xa0 Smith,\\nCharles\\xa0\\xa0 Executive Commissioner\\xa0 (Health and Human Services Commission), ',\n",
       "  'On',\n",
       "  'HB 2'],\n",
       " ['\\xa0\\xa0\\xa0\\xa0\\xa0\\xa0\\xa0\\xa0\\xa0\\xa0\\xa0\\xa0\\xa0\\xa0\\xa0\\xa0\\xa0\\xa0\\xa0\\xa0\\xa0\\xa0\\xa0\\xa0\\xa0\\xa0\\xa0\\xa0\\xa0\\xa0\\xa0\\xa0\\xa0\\xa0\\xa0\\xa0\\xa0\\xa0\\xa0\\xa0\\xa0 Austin,\\nTX',\n",
       "  'On',\n",
       "  'HB 2'],\n",
       " ['\\xa0\\xa0\\xa0\\xa0\\xa0\\xa0\\xa0\\xa0\\xa0\\xa0\\xa0\\xa0\\xa0\\xa0\\xa0\\xa0\\xa0\\xa0\\xa0\\xa0\\xa0\\xa0\\xa0\\xa0\\xa0\\xa0\\xa0\\xa0\\xa0\\xa0\\xa0\\xa0\\xa0\\xa0\\xa0\\xa0\\xa0\\xa0\\xa0\\xa0\\xa0 Thompson,\\nDustin\\xa0\\xa0 Pediatric Therapy\\xa0 (KidsCare Therapy), Addison, TX',\n",
       "  'On',\n",
       "  'HB 2'],\n",
       " ['\\xa0\\xa0\\xa0\\xa0\\xa0\\xa0\\xa0\\xa0\\xa0\\xa0\\xa0\\xa0\\xa0\\xa0\\xa0\\xa0\\xa0\\xa0\\xa0\\xa0\\xa0\\xa0\\xa0\\xa0\\xa0\\xa0\\xa0\\xa0\\xa0\\xa0\\xa0\\xa0\\xa0\\xa0\\xa0\\xa0\\xa0\\xa0\\xa0\\xa0\\xa0 Trigg,\\nAdrienne\\xa0\\xa0\\xa0 (Protect TX Fragile Kids), Austin, TX',\n",
       "  'On',\n",
       "  'HB 2'],\n",
       " ['\\xa0\\xa0\\xa0\\xa0\\xa0\\xa0\\xa0\\xa0\\xa0\\xa0\\xa0\\xa0\\xa0\\xa0\\xa0\\xa0\\xa0\\xa0\\xa0\\xa0\\xa0\\xa0\\xa0\\xa0\\xa0\\xa0\\xa0\\xa0\\xa0\\xa0\\xa0\\xa0\\xa0\\xa0\\xa0\\xa0\\xa0\\xa0\\xa0\\xa0\\xa0 Van\\nDen Bent, Jerre\\xa0\\xa0 Physical therapist\\xa0 (also providing written testimony)\\xa0\\n(Therapy ',\n",
       "  'On',\n",
       "  'HB 2'],\n",
       " ['\\xa0\\xa0\\xa0\\xa0\\xa0\\xa0\\xa0\\xa0\\xa0\\xa0\\xa0\\xa0\\xa0\\xa0\\xa0\\xa0\\xa0\\xa0\\xa0\\xa0\\xa0\\xa0\\xa0\\xa0\\xa0\\xa0\\xa0\\xa0\\xa0\\xa0\\xa0\\xa0\\xa0\\xa0\\xa0\\xa0\\xa0\\xa0\\xa0\\xa0\\xa0 2000),\\nDallas, TX',\n",
       "  'On',\n",
       "  'HB 2'],\n",
       " ['\\xa0\\xa0\\xa0\\xa0\\xa0\\xa0\\xa0\\xa0\\xa0\\xa0\\xa0\\xa0\\xa0\\xa0\\xa0\\xa0\\xa0\\xa0\\xa0\\xa0\\xa0\\xa0\\xa0\\xa0\\xa0\\xa0\\xa0\\xa0\\xa0\\xa0\\xa0\\xa0\\xa0\\xa0\\xa0\\xa0\\xa0\\xa0\\xa0\\xa0\\xa0 Wood,\\nTrey\\xa0\\xa0 Budget Director\\xa0 (Health and Human Services Commission), Austin, TX',\n",
       "  'On',\n",
       "  'HB 2'],\n",
       " ['\\xa0\\xa0\\xa0\\xa0\\xa0\\xa0\\xa0\\xa0\\xa0\\xa0\\xa0\\xa0\\xa0\\xa0\\xa0\\xa0\\xa0\\xa0\\xa0\\xa0\\xa0\\xa0\\xa0\\xa0\\xa0\\xa0\\xa0\\xa0\\xa0\\xa0\\xa0\\xa0\\xa0\\xa0\\xa0\\xa0\\xa0\\xa0\\xa0\\xa0\\xa0 Miller,\\nJeff\\xa0\\xa0 Policy Specialist\\xa0 (Disability Rights Texas), Austin',\n",
       "  'For',\n",
       "  'HB 2'],\n",
       " ['\\xa0\\xa0\\xa0\\xa0\\xa0\\xa0\\xa0\\xa0\\xa0\\xa0\\xa0\\xa0\\xa0\\xa0\\xa0\\xa0\\xa0\\xa0\\xa0\\xa0\\xa0\\xa0\\xa0\\xa0\\xa0\\xa0\\xa0\\xa0\\xa0\\xa0\\xa0\\xa0\\xa0\\xa0\\xa0\\xa0\\xa0\\xa0\\xa0\\xa0\\xa0 Tennyson,\\nTerri\\xa0\\xa0 Administrative Staff\\xa0 (Countryside Therapy Group)',\n",
       "  'For',\n",
       "  'HB 2'],\n",
       " ['\\xa0\\xa0\\xa0\\xa0\\xa0\\xa0\\xa0\\xa0\\xa0\\xa0\\xa0\\xa0\\xa0\\xa0\\xa0\\xa0\\xa0\\xa0\\xa0\\xa0\\xa0\\xa0\\xa0\\xa0\\xa0\\xa0\\xa0\\xa0\\xa0\\xa0\\xa0\\xa0\\xa0\\xa0\\xa0\\xa0\\xa0\\xa0\\xa0\\xa0\\xa0 Borgstedte,\\nAmy\\xa0\\xa0\\xa0 (LBB)',\n",
       "  'On',\n",
       "  'HB 2'],\n",
       " ['\\xa0\\xa0\\xa0\\xa0\\xa0\\xa0\\xa0\\xa0\\xa0\\xa0\\xa0\\xa0\\xa0\\xa0\\xa0\\xa0\\xa0\\xa0\\xa0\\xa0\\xa0\\xa0\\xa0\\xa0\\xa0\\xa0\\xa0\\xa0\\xa0\\xa0\\xa0\\xa0\\xa0\\xa0\\xa0\\xa0\\xa0\\xa0\\xa0\\xa0\\xa0 Pulver,\\nWayne\\xa0\\xa0\\xa0 (LBB)',\n",
       "  'On',\n",
       "  'HB 2'],\n",
       " ['\\xa0\\xa0\\xa0\\xa0\\xa0\\xa0\\xa0\\xa0\\xa0\\xa0\\xa0\\xa0\\xa0\\xa0\\xa0\\xa0\\xa0\\xa0\\xa0\\xa0\\xa0\\xa0\\xa0\\xa0\\xa0\\xa0\\xa0\\xa0\\xa0\\xa0\\xa0\\xa0\\xa0\\xa0\\xa0\\xa0\\xa0\\xa0\\xa0\\xa0\\xa0 Caplinger,\\nMelissa\\xa0\\xa0 SLP\\xa0 (SLP industry)',\n",
       "  'For',\n",
       "  'HB 2'],\n",
       " [\"\\xa0\\xa0\\xa0\\xa0\\xa0\\xa0\\xa0\\xa0\\xa0\\xa0\\xa0\\xa0\\xa0\\xa0\\xa0\\xa0\\xa0\\xa0\\xa0\\xa0\\xa0\\xa0\\xa0\\xa0\\xa0\\xa0\\xa0\\xa0\\xa0\\xa0\\xa0\\xa0\\xa0\\xa0\\xa0\\xa0\\xa0\\xa0\\xa0\\xa0\\xa0 Caplinger,\\nTJ\\xa0\\xa0 CEO\\xa0 (Pediatric Therapy - Child's Play Therapeutc Homecare)\",\n",
       "  'For',\n",
       "  'HB 2'],\n",
       " ['\\xa0\\xa0\\xa0\\xa0\\xa0\\xa0\\xa0\\xa0\\xa0\\xa0\\xa0\\xa0\\xa0\\xa0\\xa0\\xa0\\xa0\\xa0\\xa0\\xa0\\xa0\\xa0\\xa0\\xa0\\xa0\\xa0\\xa0\\xa0\\xa0\\xa0\\xa0\\xa0\\xa0\\xa0\\xa0\\xa0\\xa0\\xa0\\xa0\\xa0\\xa0 Jackson,\\nVictoria\\xa0\\xa0 Manager / Speech Pathologist\\xa0 (Kids Care Pediatric Home Health ',\n",
       "  'On',\n",
       "  'HB 2'],\n",
       " ['\\xa0\\xa0\\xa0\\xa0\\xa0\\xa0\\xa0\\xa0\\xa0\\xa0\\xa0\\xa0\\xa0\\xa0\\xa0\\xa0\\xa0\\xa0\\xa0\\xa0\\xa0\\xa0\\xa0\\xa0\\xa0\\xa0\\xa0\\xa0\\xa0\\xa0\\xa0\\xa0\\xa0\\xa0\\xa0\\xa0\\xa0\\xa0\\xa0\\xa0\\xa0 Therapy),\\nAddison, TX',\n",
       "  'On',\n",
       "  'HB 2']]"
      ]
     },
     "execution_count": 6,
     "metadata": {},
     "output_type": "execute_result"
    }
   ],
   "source": [
    "wit"
   ]
  },
  {
   "cell_type": "code",
   "execution_count": 7,
   "metadata": {},
   "outputs": [
    {
     "name": "stdout",
     "output_type": "stream",
     "text": [
      "[['Austin', 'For', 'HB 2'], ['Austin,\\nTX', 'On', 'HB 2']]\n"
     ]
    }
   ],
   "source": [
    "# trying to rejoin entries split across lines\n",
    "newList, badList = mergelines(wit)\n",
    "print(badList)\n",
    "    \n",
    "for line in wit:\n",
    "    line.extend(addName(line))\n",
    "    line.extend(addTitle(line))\n",
    "    line.extend(addOrg(line))\n",
    "    line.extend(addCity(line))"
   ]
  },
  {
   "cell_type": "code",
   "execution_count": 9,
   "metadata": {},
   "outputs": [
    {
     "data": {
      "text/plain": [
       "[['Carter,\\nBobbie\\xa0\\xa0 Physical Therapist\\xa0 (Countryside Therapy Group, Inc.), Rising Star, TX',\n",
       "  'For',\n",
       "  'HB 2'],\n",
       " [\"Castro,\\nAmy\\xa0\\xa0 Asst. Speech Pathology\\xa0 (also providing written testimony)\\xa0 (Child's Play Home\\nHealth)\",\n",
       "  'For',\n",
       "  'HB 2'],\n",
       " ['Hammon,\\nRachel\\xa0\\xa0 TX Association for Home Care & Hospice (TAHCH)\\xa0 (TAHCH), Austin',\n",
       "  'For',\n",
       "  'HB 2'],\n",
       " ['Montgomery,\\nLaura\\xa0\\xa0 Occupational Therapist\\xa0 (Countryside Therapy Group & Home Health),\\nStephenville',\n",
       "  'For',\n",
       "  'HB 2'],\n",
       " ['West,\\nBarbara\\xa0\\xa0 Director of Marketing -\\xa0 (also providing written testimony)\\xa0 (Circle\\nof Care -\\nPediatric Therapy), Bulverde, TX',\n",
       "  'For',\n",
       "  'HB 2'],\n",
       " ['Adams,\\nJosh\\xa0\\xa0 Atlas Pediatric Therapy, Small Business Owner Home Health Agency (Speech,\\nPhysical, Occupational Therapy Industry & Families), Arlington, TX',\n",
       "  'On',\n",
       "  'HB 2'],\n",
       " ['Colbert,\\nPaul\\xa0\\xa0 consultant\\xa0 (also providing written testimony)\\xa0 (Lee College), Houston,\\nTX',\n",
       "  'On',\n",
       "  'HB 2'],\n",
       " ['Mehta,\\nHannah\\xa0\\xa0 parent & exec director\\xa0 (Protect TX Fragile Kids - 1700 families\\nof medically\\nfragile children), Flower Mound, TX',\n",
       "  'On',\n",
       "  'HB 2'],\n",
       " ['Parks,\\nUrsula\\xa0\\xa0\\xa0 (LBB)', 'On', 'HB 2'],\n",
       " ['Riley,\\nJennifer\\xa0\\xa0 Therapy\\xa0 (Sage Care Therapy), Dallas',\n",
       "  'On',\n",
       "  'HB 2'],\n",
       " ['Rodell,\\nLeora\\xa0\\xa0\\xa0 (LBB)', 'On', 'HB 2'],\n",
       " ['Smith,\\nCharles\\xa0\\xa0 Executive Commissioner\\xa0 (Health and Human Services Commission), Austin,\\nTX',\n",
       "  'On',\n",
       "  'HB 2'],\n",
       " ['Thompson,\\nDustin\\xa0\\xa0 Pediatric Therapy\\xa0 (KidsCare Therapy), Addison, TX',\n",
       "  'On',\n",
       "  'HB 2'],\n",
       " ['Trigg,\\nAdrienne\\xa0\\xa0\\xa0 (Protect TX Fragile Kids), Austin, TX',\n",
       "  'On',\n",
       "  'HB 2'],\n",
       " ['Van\\nDen Bent, Jerre\\xa0\\xa0 Physical therapist\\xa0 (also providing written testimony)\\xa0\\n(Therapy 2000),\\nDallas, TX',\n",
       "  'On',\n",
       "  'HB 2'],\n",
       " ['Wood,\\nTrey\\xa0\\xa0 Budget Director\\xa0 (Health and Human Services Commission), Austin, TX',\n",
       "  'On',\n",
       "  'HB 2'],\n",
       " ['Miller,\\nJeff\\xa0\\xa0 Policy Specialist\\xa0 (Disability Rights Texas), Austin',\n",
       "  'For',\n",
       "  'HB 2'],\n",
       " ['Tennyson,\\nTerri\\xa0\\xa0 Administrative Staff\\xa0 (Countryside Therapy Group)',\n",
       "  'For',\n",
       "  'HB 2'],\n",
       " ['Borgstedte,\\nAmy\\xa0\\xa0\\xa0 (LBB)', 'On', 'HB 2'],\n",
       " ['Pulver,\\nWayne\\xa0\\xa0\\xa0 (LBB)', 'On', 'HB 2'],\n",
       " ['Caplinger,\\nMelissa\\xa0\\xa0 SLP\\xa0 (SLP industry)', 'For', 'HB 2'],\n",
       " [\"Caplinger,\\nTJ\\xa0\\xa0 CEO\\xa0 (Pediatric Therapy - Child's Play Therapeutc Homecare)\",\n",
       "  'For',\n",
       "  'HB 2']]"
      ]
     },
     "execution_count": 9,
     "metadata": {},
     "output_type": "execute_result"
    }
   ],
   "source": [
    "newList, badList = mergelines(newList)\n",
    "newList"
   ]
  },
  {
   "cell_type": "code",
   "execution_count": 10,
   "metadata": {},
   "outputs": [
    {
     "data": {
      "text/plain": [
       "[['Home\\nHealth)', 'For', 'HB 2'],\n",
       " ['Health),\\nStephenville', 'For', 'HB 2'],\n",
       " ['-\\nPediatric Therapy), Bulverde, TX', 'For', 'HB 2'],\n",
       " ['(Speech,\\nPhysical, Occupational Therapy Industry & Families), Arlington, TX',\n",
       "  'On',\n",
       "  'HB 2'],\n",
       " ['medically\\nfragile children), Flower Mound, TX', 'On', 'HB 2'],\n",
       " ['2000),\\nDallas, TX', 'On', 'HB 2']]"
      ]
     },
     "execution_count": 10,
     "metadata": {},
     "output_type": "execute_result"
    }
   ],
   "source": [
    "badList"
   ]
  },
  {
   "cell_type": "code",
   "execution_count": null,
   "metadata": {},
   "outputs": [],
   "source": [
    "import shutil, os\n",
    "\n",
    "houseWit = []\n",
    "\n",
    "folderName = 'bills/85R/witlistbill/html/house_bills/'\n",
    "\n",
    "for folderName, subfolders, filenames in os.walk(folderName):\n",
    "    for filename in filenames:\n",
    "        if filename != \".DS_Store\":\n",
    "            source = folderName + filename\n",
    "            wit = HBWitness(source)\n",
    "            # print(str(changed) + \" lines changed.\")\n",
    "            houseWit.extend(wit)\n"
   ]
  },
  {
   "cell_type": "code",
   "execution_count": null,
   "metadata": {},
   "outputs": [],
   "source": [
    "houseWit[:5]"
   ]
  },
  {
   "cell_type": "code",
   "execution_count": null,
   "metadata": {
    "collapsed": true
   },
   "outputs": [],
   "source": [
    "import pandas as pd\n",
    "\n",
    "df = pd.DataFrame(houseWit, columns=list(['raw', 'position', 'bill', 'last','first','title', 'org','city','state']))"
   ]
  },
  {
   "cell_type": "code",
   "execution_count": null,
   "metadata": {},
   "outputs": [],
   "source": [
    "df[df['bill'] == \"HB 3025\"]"
   ]
  },
  {
   "cell_type": "code",
   "execution_count": null,
   "metadata": {},
   "outputs": [],
   "source": [
    "pd.options.display.max_colwidth = 500\n",
    "df[pd.isnull(df['org'])]\n",
    "# df.first.isnull()"
   ]
  },
  {
   "cell_type": "code",
   "execution_count": null,
   "metadata": {
    "collapsed": true
   },
   "outputs": [],
   "source": []
  },
  {
   "cell_type": "code",
   "execution_count": null,
   "metadata": {},
   "outputs": [],
   "source": [
    "\n",
    "df[df['bill'] == \"HB 2\"]"
   ]
  },
  {
   "cell_type": "code",
   "execution_count": null,
   "metadata": {
    "collapsed": true
   },
   "outputs": [],
   "source": [
    "noText = []\n",
    "for line in houseWit:\n",
    "    noText.append(line[1:])\n",
    "\n",
    "def changeN(cell):\n",
    "    if cell != None:\n",
    "        cell = cell.replace(\"\\n\", \" \")\n",
    "    return cell\n",
    "    \n",
    "noText = [[changeN(cell) for cell in line] for line in noText]\n",
    "    "
   ]
  },
  {
   "cell_type": "code",
   "execution_count": null,
   "metadata": {
    "collapsed": true
   },
   "outputs": [],
   "source": [
    "# noText[10]"
   ]
  },
  {
   "cell_type": "code",
   "execution_count": null,
   "metadata": {},
   "outputs": [],
   "source": [
    "houseWit[10:20]"
   ]
  },
  {
   "cell_type": "code",
   "execution_count": null,
   "metadata": {
    "collapsed": true
   },
   "outputs": [],
   "source": [
    "import csv\n",
    "\n",
    "with open('..\\data\\witness-lists\\HouseWitness.csv','w') as f:\n",
    "    writer = csv.writer(f)\n",
    "    writer.writerow(['Position', 'Bill', 'LastName', 'FirstName', 'Role', 'Organization', 'City', 'State'])\n",
    "    writer.writerows(noText)"
   ]
  }
 ],
 "metadata": {
  "kernelspec": {
   "display_name": "Python 3",
   "language": "python",
   "name": "python3"
  },
  "language_info": {
   "codemirror_mode": {
    "name": "ipython",
    "version": 3
   },
   "file_extension": ".py",
   "mimetype": "text/x-python",
   "name": "python",
   "nbconvert_exporter": "python",
   "pygments_lexer": "ipython3",
   "version": "3.6.1"
  }
 },
 "nbformat": 4,
 "nbformat_minor": 1
}
