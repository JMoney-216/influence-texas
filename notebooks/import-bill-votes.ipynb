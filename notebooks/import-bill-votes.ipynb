{
 "cells": [
  {
   "cell_type": "markdown",
   "metadata": {},
   "source": [
    "This file starts with the OpenStates bulk download file called 2017-07-01-tx-json, from https://openstates.org/downloads/. It then deletes the rows not needed (yet) for the InfluenceTX campaign finance web service and makes two big JSON files to be loaded into the InfluenceTX database. One is for Texas Senate votes on House bills and the other is for Senate votes on Senate bills."
   ]
  },
  {
   "cell_type": "code",
   "execution_count": 1,
   "metadata": {},
   "outputs": [],
   "source": [
    "import json\n",
    "import shutil, os\n",
    "\n",
    "def getContents(path):\n",
    "    with open(path) as data_file:\n",
    "        bill = json.load(data_file)\n",
    "    if \"Resolutions--Congratulatory & Honorary (I0705)\" in bill['scraped_subjects']:\n",
    "        return None\n",
    "    bill.pop('actions', None)\n",
    "    bill['votes'] = [x for x in bill['votes'] if x['motion'] == \"passage\"] # limited to votes on passage\n",
    "    bill['votes'] = [x for x in bill['votes'] if x['chamber'] == \"upper\"] # only Senate votes were requested for this\n",
    "    return bill\n"
   ]
  },
  {
   "cell_type": "code",
   "execution_count": 2,
   "metadata": {},
   "outputs": [],
   "source": [
    "def getfiles(pathToDir):\n",
    "    j = {}\n",
    "    for root, dirs, files in os.walk(pathToDir):\n",
    "        for filename in files:\n",
    "            if filename != \".DS_Store\":\n",
    "                bill = getContents(os.path.join(pathToDir, filename))\n",
    "                if bill != None:\n",
    "                    j[filename] = bill\n",
    "    return j\n",
    "\n",
    "folderName = './2017-07-01-tx-json/bills/tx/85/'\n",
    "senate = getfiles(os.path.join(folderName, \"upper\"))\n",
    "house = getfiles(os.path.join(folderName, \"lower\"))"
   ]
  },
  {
   "cell_type": "code",
   "execution_count": 3,
   "metadata": {},
   "outputs": [],
   "source": [
    "with open('../data/votes/houseBillVotes.json', 'w') as fp:\n",
    "    json.dump(house, fp)\n",
    "\n",
    "with open('../data/votes/senateBillVotes.json', 'w') as fp:\n",
    "    json.dump(senate, fp)"
   ]
  }
 ],
 "metadata": {
  "kernelspec": {
   "display_name": "Python 3",
   "language": "python",
   "name": "python3"
  },
  "language_info": {
   "codemirror_mode": {
    "name": "ipython",
    "version": 3
   },
   "file_extension": ".py",
   "mimetype": "text/x-python",
   "name": "python",
   "nbconvert_exporter": "python",
   "pygments_lexer": "ipython3",
   "version": "3.6.1"
  }
 },
 "nbformat": 4,
 "nbformat_minor": 2
}
